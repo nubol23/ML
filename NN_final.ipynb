{
 "cells": [
  {
   "cell_type": "code",
   "execution_count": 2,
   "metadata": {},
   "outputs": [],
   "source": [
    "import numpy as np\n",
    "from testCases_v3 import *\n",
    "import matplotlib.pyplot as plt\n",
    "\n",
    "%matplotlib inline\n",
    "plt.rcParams['figure.figsize'] = (5.0, 4.0) # set default size of plots\n",
    "plt.rcParams['image.interpolation'] = 'nearest'\n",
    "plt.rcParams['image.cmap'] = 'gray'\n",
    "\n",
    "%load_ext autoreload\n",
    "%autoreload 2\n",
    "\n",
    "np.random.seed(1)"
   ]
  },
  {
   "cell_type": "code",
   "execution_count": 9,
   "metadata": {},
   "outputs": [
    {
     "name": "stdout",
     "output_type": "stream",
     "text": [
      "(12288, 209)\n",
      "(1, 209)\n"
     ]
    }
   ],
   "source": [
    "#Dataset\n",
    "from dnn_utils_v2 import *\n",
    "\n",
    "train_x_orig, train_y, test_x_orig, test_y, classes = load_data()\n",
    "\n",
    "# Reshape the training and test examples \n",
    "train_x_flatten = train_x_orig.reshape(train_x_orig.shape[0], -1).T   # The \"-1\" makes reshape flatten the remaining dimensions\n",
    "test_x_flatten = test_x_orig.reshape(test_x_orig.shape[0], -1).T\n",
    "\n",
    "# Standardize data to have feature values between 0 and 1.\n",
    "train_x = train_x_flatten/255.\n",
    "test_x = test_x_flatten/255.\n",
    "\n",
    "print(train_x.shape)\n",
    "print(train_y.shape)"
   ]
  },
  {
   "cell_type": "code",
   "execution_count": 10,
   "metadata": {},
   "outputs": [
    {
     "name": "stdout",
     "output_type": "stream",
     "text": [
      "y = 0. It's a non-cat picture.\n"
     ]
    },
    {
     "data": {
      "image/png": "[encoded data removed]",
      "text/plain": [
       "<matplotlib.figure.Figure at 0x7f95cd3c5630>"
      ]
     },
     "metadata": {},
     "output_type": "display_data"
    }
   ],
   "source": [
    "# Example of a picture\n",
    "index = 10\n",
    "plt.imshow(train_x_orig[index])\n",
    "print (\"y = \" + str(train_y[0,index]) + \". It's a \" + classes[train_y[0,index]].decode(\"utf-8\") +  \" picture.\")"
   ]
  },
  {
   "cell_type": "code",
   "execution_count": 3,
   "metadata": {
    "collapsed": true
   },
   "outputs": [],
   "source": [
    "σ = lambda Z: (1/(1 + np.exp(-Z)))\n",
    "dσ = lambda Z: (σ(Z) * (1 - σ(Z)))\n",
    "Relu = lambda Z: (np.maximum(0,Z))\n",
    "dRelu = lambda Z: ((Z > 0) * 1)\n",
    "#Relu's derivative: 0 if Z[i] <= 0 and 1 if Z[i] > 0"
   ]
  },
  {
   "cell_type": "code",
   "execution_count": 4,
   "metadata": {
    "collapsed": true
   },
   "outputs": [],
   "source": [
    "def forward_propagation(X, Weights):\n",
    "    L = len(Weights)\n",
    "    caches = []\n",
    "\n",
    "    A = X\n",
    "    for l in range(L-1):\n",
    "        W,b = Weights[l]\n",
    "\n",
    "        A_prev = A\n",
    "\n",
    "        Z = np.dot(W, A_prev) + b\n",
    "        A = Relu(Z)\n",
    "\n",
    "        caches.append((A_prev, W, Z))\n",
    "        \n",
    "    A_prev = A\n",
    "    #Last layer\n",
    "    W,b = Weights[L-1]\n",
    "\n",
    "    Z = np.dot(W, A_prev) + b\n",
    "    y_hat = σ(Z)\n",
    "\n",
    "    caches.append((A_prev, W, Z))\n",
    "\n",
    "    return y_hat, caches"
   ]
  },
  {
   "cell_type": "code",
   "execution_count": 5,
   "metadata": {
    "collapsed": true
   },
   "outputs": [],
   "source": [
    "def backpropagation(y_hat, y, caches):\n",
    "    L = len(caches)\n",
    "    m = y_hat.shape[1]\n",
    "    grads = []\n",
    "\n",
    "    A_prev, W, Z = caches[L-1]\n",
    "    #Last layer\n",
    "    dy_hat = ( (1-y)/(1-y_hat) ) - ( y/y_hat )\n",
    "    dZ = dy_hat * dσ(Z)\n",
    "    dW = 1/m * np.dot(dZ, A_prev.T)\n",
    "    db = 1/m * np.sum(dZ, axis=1, keepdims=True)\n",
    "    dA = np.dot(W.T, dZ)\n",
    "\n",
    "    grads.append((dW,db))\n",
    "\n",
    "    for l in reversed(range(L-1)):\n",
    "        A_prev, W, Z = caches[l]    \n",
    "        dZ = dA * dRelu(Z)\n",
    "        dW = 1/m * np.dot(dZ, A_prev.T)\n",
    "        db = 1/m * np.sum(dZ, axis=1, keepdims=True)\n",
    "        dA = np.dot(W.T, dZ)\n",
    "\n",
    "        grads.append((dW,db))\n",
    "\n",
    "    grads = list(reversed(grads))\n",
    "    return grads"
   ]
  },
  {
   "cell_type": "code",
   "execution_count": 6,
   "metadata": {
    "collapsed": true
   },
   "outputs": [],
   "source": [
    "def initialize(layer_dimensions):\n",
    "    #layer_dimensions[0] is the input layer size\n",
    "    np.random.seed(1)\n",
    "    L = len(layer_dimensions)\n",
    "    Weigths = []\n",
    "\n",
    "    for l in range(1,L):\n",
    "        W = np.random.randn(layer_dimensions[l],layer_dimensions[l-1]) / np.sqrt(layer_dimensions[l-1])\n",
    "        b = np.zeros((layer_dimensions[l],1))\n",
    "\n",
    "        Weigths.append((W,b))\n",
    "\n",
    "    return Weigths"
   ]
  },
  {
   "cell_type": "code",
   "execution_count": 7,
   "metadata": {
    "collapsed": true
   },
   "outputs": [],
   "source": [
    "cross_entropy_loss = lambda y_hat, y: np.squeeze(( 1/y.shape[1] * (-np.dot(y,np.log(y_hat).T) - np.dot(1-y, np.log(1-y_hat).T)) ) )"
   ]
  },
  {
   "cell_type": "code",
   "execution_count": 8,
   "metadata": {
    "collapsed": true
   },
   "outputs": [],
   "source": [
    "def update(Weights, α, grads):\n",
    "    L = len(Weights)\n",
    "\n",
    "    for l in range(L):\n",
    "        W,b = Weights[l]\n",
    "\n",
    "        dW, db = grads[l]\n",
    "        Weights[l] = W-α*dW, b-α*db\n",
    "\n",
    "    return Weights"
   ]
  },
  {
   "cell_type": "code",
   "execution_count": 15,
   "metadata": {
    "collapsed": true
   },
   "outputs": [],
   "source": [
    "#Final L-layer model\n",
    "def model(X,y, layer_dimensions, α, iters, print_cost = False):\n",
    "    np.random.seed(1)\n",
    "    costs = []\n",
    "    m = X.shape[1]\n",
    "\n",
    "    Weigts = initialize(layer_dimensions)\n",
    "\n",
    "    for i in range(iters):\n",
    "        \n",
    "        y_hat, caches = forward_propagation(X, Weigts)\n",
    "\n",
    "        cost = cross_entropy_loss(y_hat, y)\n",
    "        \n",
    "        grads = backpropagation(y_hat, y, caches)\n",
    "        \n",
    "        Weigts = update(Weigts, α, grads)  \n",
    "\n",
    "        if print_cost and i % 100 == 0:\n",
    "            print (\"Cost after iteration %i: %f\" %(i, cost))\n",
    "        if print_cost and i % 100 == 0:\n",
    "            costs.append(cost)\n",
    "\n",
    "    costs = np.squeeze(costs)\n",
    "    #plt.plot(np.squeeze(costs))\n",
    "    #plt.ylabel('cost')\n",
    "    #plt.xlabel('iterations (per tens)')\n",
    "    #plt.title(\"Learning rate =\" + str(α))\n",
    "    #plt.show()\n",
    "    return Weigts, costs"
   ]
  },
  {
   "cell_type": "code",
   "execution_count": 102,
   "metadata": {},
   "outputs": [
    {
     "name": "stdout",
     "output_type": "stream",
     "text": [
      "Cost after iteration 0: 0.695046\n",
      "Cost after iteration 100: 0.589260\n",
      "Cost after iteration 200: 0.523261\n",
      "Cost after iteration 300: 0.449769\n",
      "Cost after iteration 400: 0.420900\n",
      "Cost after iteration 500: 0.372464\n",
      "Cost after iteration 600: 0.347421\n",
      "Cost after iteration 700: 0.317192\n",
      "Cost after iteration 800: 0.266438\n",
      "Cost after iteration 900: 0.219914\n",
      "Cost after iteration 1000: 0.143579\n",
      "Cost after iteration 1100: 0.453092\n",
      "Cost after iteration 1200: 0.094994\n",
      "Cost after iteration 1300: 0.080141\n",
      "Cost after iteration 1400: 0.069402\n",
      "Cost after iteration 1500: 0.060217\n",
      "Cost after iteration 1600: 0.053274\n",
      "Cost after iteration 1700: 0.047629\n",
      "Cost after iteration 1800: 0.042976\n",
      "Cost after iteration 1900: 0.039036\n",
      "Cost after iteration 2000: 0.035683\n",
      "Cost after iteration 2100: 0.032915\n",
      "Cost after iteration 2200: 0.030472\n",
      "Cost after iteration 2300: 0.028388\n",
      "Cost after iteration 2400: 0.026615\n"
     ]
    },
    {
     "data": {
      "image/png": "[encoded data removed]",
      "text/plain": [
       "<matplotlib.figure.Figure at 0x7f95b10e4cf8>"
      ]
     },
     "metadata": {},
     "output_type": "display_data"
    }
   ],
   "source": [
    "layer_dimensions = [12288, 7, 1]\n",
    "α = 0.0075\n",
    "iters = 2500\n",
    "Weights, costs = model(train_x, train_y, layer_dimensions, α, iters, print_cost=True)\n",
    "\n",
    "plt.plot(costs)\n",
    "plt.ylabel('cost')\n",
    "plt.xlabel('iterations (per tens)')\n",
    "plt.title(\"Learning rate =\" + str(α))\n",
    "plt.show()"
   ]
  },
  {
   "cell_type": "code",
   "execution_count": 104,
   "metadata": {
    "collapsed": true
   },
   "outputs": [],
   "source": [
    "def check(X, y, Weigths):\n",
    "    preds, _ = forward_propagation(X, Weigths)\n",
    "    preds = (preds > 0.5)*1\n",
    "\n",
    "    pos = 0\n",
    "    m = preds.shape[1]\n",
    "    for i in range(m):\n",
    "        if y[0][i] == preds[0][i]:\n",
    "           pos += 1\n",
    "\n",
    "    print(str(pos/m)+'% Accuracy')"
   ]
  },
  {
   "cell_type": "code",
   "execution_count": 105,
   "metadata": {},
   "outputs": [
    {
     "name": "stdout",
     "output_type": "stream",
     "text": [
      "0.74% Accuracy\n"
     ]
    }
   ],
   "source": [
    "check(test_x, test_y, Weights)"
   ]
  },
  {
   "cell_type": "code",
   "execution_count": 106,
   "metadata": {
    "collapsed": true
   },
   "outputs": [],
   "source": [
    "def predict(test, Weights):\n",
    "\n",
    "    #plot image\n",
    "    plt.imshow(test)\n",
    "    plt.plot()\n",
    "    #flatten image\n",
    "    test =  np.reshape(test.flatten(), (12288,1))\n",
    "\n",
    "    pred, _ = forward_propagation(test, Weights)\n",
    "    if pred == 1:\n",
    "        print('It is a cat')\n",
    "    else:\n",
    "        print('It is not a cat')"
   ]
  },
  {
   "cell_type": "code",
   "execution_count": 107,
   "metadata": {},
   "outputs": [],
   "source": [
    "import cv2\n",
    "\n",
    "#import image\n",
    "prueba = cv2.resize(cv2.imread('test.jpg'), (64,64), interpolation = cv2.INTER_AREA)\n",
    "prueba = cv2.cvtColor(prueba, cv2.COLOR_BGR2RGB)"
   ]
  },
  {
   "cell_type": "code",
   "execution_count": 108,
   "metadata": {},
   "outputs": [
    {
     "name": "stdout",
     "output_type": "stream",
     "text": [
      "It is a cat\n"
     ]
    },
    {
     "data": {
      "image/png": "[encoded data removed]",
      "text/plain": [
       "<matplotlib.figure.Figure at 0x7f95b0f050b8>"
      ]
     },
     "metadata": {},
     "output_type": "display_data"
    }
   ],
   "source": [
    "predict(prueba, Weights)"
   ]
  },
  {
   "cell_type": "code",
   "execution_count": null,
   "metadata": {
    "collapsed": true
   },
   "outputs": [],
   "source": []
  }
 ],
 "metadata": {
  "kernelspec": {
   "display_name": "Python 3",
   "language": "python",
   "name": "python3"
  },
  "language_info": {
   "codemirror_mode": {
    "name": "ipython",
    "version": 3
   },
   "file_extension": ".py",
   "mimetype": "text/x-python",
   "name": "python",
   "nbconvert_exporter": "python",
   "pygments_lexer": "ipython3",
   "version": "3.6.3"
  }
 },
 "nbformat": 4,
 "nbformat_minor": 2
}
